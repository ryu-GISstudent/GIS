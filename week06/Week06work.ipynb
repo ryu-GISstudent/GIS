{
 "cells": [
  {
   "cell_type": "code",
   "execution_count": 1,
   "metadata": {},
   "outputs": [],
   "source": [
    "# library import\n",
    "import pandas as pd\n",
    "import folium\n"
   ]
  },
  {
   "cell_type": "code",
   "execution_count": 2,
   "metadata": {},
   "outputs": [],
   "source": [
    "# import the csv file\n",
    "df = pd.read_csv('week06.csv')"
   ]
  },
  {
   "cell_type": "code",
   "execution_count": 3,
   "metadata": {},
   "outputs": [
    {
     "data": {
      "text/html": [
       "<div>\n",
       "<style scoped>\n",
       "    .dataframe tbody tr th:only-of-type {\n",
       "        vertical-align: middle;\n",
       "    }\n",
       "\n",
       "    .dataframe tbody tr th {\n",
       "        vertical-align: top;\n",
       "    }\n",
       "\n",
       "    .dataframe thead th {\n",
       "        text-align: right;\n",
       "    }\n",
       "</style>\n",
       "<table border=\"1\" class=\"dataframe\">\n",
       "  <thead>\n",
       "    <tr style=\"text-align: right;\">\n",
       "      <th></th>\n",
       "      <th>name</th>\n",
       "      <th>description</th>\n",
       "      <th>latitude</th>\n",
       "      <th>longitude</th>\n",
       "      <th>color</th>\n",
       "    </tr>\n",
       "  </thead>\n",
       "  <tbody>\n",
       "    <tr>\n",
       "      <th>0</th>\n",
       "      <td>皇居</td>\n",
       "      <td>日本の東京都千代田区にある皇室方々が住む場所</td>\n",
       "      <td>35.685269</td>\n",
       "      <td>139.752744</td>\n",
       "      <td>darkblue</td>\n",
       "    </tr>\n",
       "    <tr>\n",
       "      <th>1</th>\n",
       "      <td>ほわいとはうす</td>\n",
       "      <td>アメリカ合衆国大統領が居住し、執務を行う官邸・公邸、訳語は「白亜館」</td>\n",
       "      <td>38.897818</td>\n",
       "      <td>-77.036583</td>\n",
       "      <td>white</td>\n",
       "    </tr>\n",
       "    <tr>\n",
       "      <th>2</th>\n",
       "      <td>ぴんくはうす</td>\n",
       "      <td>アルゼンチンの大統領官邸で正式名称はLa Casa Rosada</td>\n",
       "      <td>-34.607855</td>\n",
       "      <td>-58.370337</td>\n",
       "      <td>pink</td>\n",
       "    </tr>\n",
       "    <tr>\n",
       "      <th>3</th>\n",
       "      <td>バッキンガム宮殿</td>\n",
       "      <td>イギリスロンドンにある宮殿で1837年以来は英国王族が住んでいた</td>\n",
       "      <td>51.501498</td>\n",
       "      <td>-0.141911</td>\n",
       "      <td>cadetblue</td>\n",
       "    </tr>\n",
       "    <tr>\n",
       "      <th>4</th>\n",
       "      <td>ハイステンボス宮殿</td>\n",
       "      <td>17世紀にオランダ・ハーグの森に建てられ現在はウィレム＝アレクサンダー国王がお住まいになって...</td>\n",
       "      <td>52.093709</td>\n",
       "      <td>4.342826</td>\n",
       "      <td>orange</td>\n",
       "    </tr>\n",
       "    <tr>\n",
       "      <th>5</th>\n",
       "      <td>アルボラーダ宮殿</td>\n",
       "      <td>ブラジルの首都ブラジリアにある大統領官邸の通称。ポルトガル語で「夜明けの宮殿」を意味する。</td>\n",
       "      <td>-15.791564</td>\n",
       "      <td>-47.822473</td>\n",
       "      <td>orange</td>\n",
       "    </tr>\n",
       "    <tr>\n",
       "      <th>6</th>\n",
       "      <td>首相官邸</td>\n",
       "      <td>日本の内閣の公式な事務所、居所</td>\n",
       "      <td>35.673804</td>\n",
       "      <td>139.742385</td>\n",
       "      <td>orange</td>\n",
       "    </tr>\n",
       "    <tr>\n",
       "      <th>7</th>\n",
       "      <td>バルバドス議事堂</td>\n",
       "      <td>ブリッジタウン旧市街中心地に建つ議事堂</td>\n",
       "      <td>13.097228</td>\n",
       "      <td>-59.613887</td>\n",
       "      <td>orange</td>\n",
       "    </tr>\n",
       "    <tr>\n",
       "      <th>8</th>\n",
       "      <td>国民議会（ガーナ）</td>\n",
       "      <td>ガーナの国民議会館</td>\n",
       "      <td>5.557140</td>\n",
       "      <td>-0.189966</td>\n",
       "      <td>orange</td>\n",
       "    </tr>\n",
       "  </tbody>\n",
       "</table>\n",
       "</div>"
      ],
      "text/plain": [
       "        name                                        description   latitude  \\\n",
       "0         皇居                             日本の東京都千代田区にある皇室方々が住む場所  35.685269   \n",
       "1    ほわいとはうす                 アメリカ合衆国大統領が居住し、執務を行う官邸・公邸、訳語は「白亜館」  38.897818   \n",
       "2     ぴんくはうす                   アルゼンチンの大統領官邸で正式名称はLa Casa Rosada -34.607855   \n",
       "3   バッキンガム宮殿                   イギリスロンドンにある宮殿で1837年以来は英国王族が住んでいた  51.501498   \n",
       "4  ハイステンボス宮殿  17世紀にオランダ・ハーグの森に建てられ現在はウィレム＝アレクサンダー国王がお住まいになって...  52.093709   \n",
       "5   アルボラーダ宮殿      ブラジルの首都ブラジリアにある大統領官邸の通称。ポルトガル語で「夜明けの宮殿」を意味する。 -15.791564   \n",
       "6       首相官邸                                    日本の内閣の公式な事務所、居所  35.673804   \n",
       "7   バルバドス議事堂                                ブリッジタウン旧市街中心地に建つ議事堂  13.097228   \n",
       "8  国民議会（ガーナ）                                          ガーナの国民議会館   5.557140   \n",
       "\n",
       "    longitude      color  \n",
       "0  139.752744   darkblue  \n",
       "1  -77.036583      white  \n",
       "2  -58.370337       pink  \n",
       "3   -0.141911  cadetblue  \n",
       "4    4.342826     orange  \n",
       "5  -47.822473     orange  \n",
       "6  139.742385     orange  \n",
       "7  -59.613887     orange  \n",
       "8   -0.189966     orange  "
      ]
     },
     "execution_count": 3,
     "metadata": {},
     "output_type": "execute_result"
    }
   ],
   "source": [
    "df"
   ]
  },
  {
   "cell_type": "code",
   "execution_count": 4,
   "metadata": {},
   "outputs": [
    {
     "data": {
      "text/plain": [
       "(9, 5)"
      ]
     },
     "execution_count": 4,
     "metadata": {},
     "output_type": "execute_result"
    }
   ],
   "source": [
    "# size of the data (rows, columns)\n",
    "df.shape"
   ]
  },
  {
   "cell_type": "code",
   "execution_count": 5,
   "metadata": {},
   "outputs": [
    {
     "name": "stdout",
     "output_type": "stream",
     "text": [
      "<class 'pandas.core.frame.DataFrame'>\n",
      "RangeIndex: 9 entries, 0 to 8\n",
      "Data columns (total 5 columns):\n",
      " #   Column       Non-Null Count  Dtype  \n",
      "---  ------       --------------  -----  \n",
      " 0   name         9 non-null      object \n",
      " 1   description  9 non-null      object \n",
      " 2   latitude     9 non-null      float64\n",
      " 3   longitude    9 non-null      float64\n",
      " 4   color        9 non-null      object \n",
      "dtypes: float64(2), object(3)\n",
      "memory usage: 492.0+ bytes\n"
     ]
    }
   ],
   "source": [
    "# information about the data\n",
    "df.info()"
   ]
  },
  {
   "cell_type": "code",
   "execution_count": 6,
   "metadata": {},
   "outputs": [
    {
     "data": {
      "text/plain": [
       "['name', 'description', 'latitude', 'longitude', 'color']"
      ]
     },
     "execution_count": 6,
     "metadata": {},
     "output_type": "execute_result"
    }
   ],
   "source": [
    "# list of columns\n",
    "df.columns.to_list()"
   ]
  },
  {
   "cell_type": "code",
   "execution_count": 7,
   "metadata": {},
   "outputs": [
    {
     "data": {
      "text/html": [
       "<div>\n",
       "<style scoped>\n",
       "    .dataframe tbody tr th:only-of-type {\n",
       "        vertical-align: middle;\n",
       "    }\n",
       "\n",
       "    .dataframe tbody tr th {\n",
       "        vertical-align: top;\n",
       "    }\n",
       "\n",
       "    .dataframe thead th {\n",
       "        text-align: right;\n",
       "    }\n",
       "</style>\n",
       "<table border=\"1\" class=\"dataframe\">\n",
       "  <thead>\n",
       "    <tr style=\"text-align: right;\">\n",
       "      <th></th>\n",
       "      <th>name</th>\n",
       "      <th>latitude</th>\n",
       "      <th>longitude</th>\n",
       "    </tr>\n",
       "  </thead>\n",
       "  <tbody>\n",
       "    <tr>\n",
       "      <th>0</th>\n",
       "      <td>皇居</td>\n",
       "      <td>35.685269</td>\n",
       "      <td>139.752744</td>\n",
       "    </tr>\n",
       "    <tr>\n",
       "      <th>1</th>\n",
       "      <td>ほわいとはうす</td>\n",
       "      <td>38.897818</td>\n",
       "      <td>-77.036583</td>\n",
       "    </tr>\n",
       "    <tr>\n",
       "      <th>2</th>\n",
       "      <td>ぴんくはうす</td>\n",
       "      <td>-34.607855</td>\n",
       "      <td>-58.370337</td>\n",
       "    </tr>\n",
       "    <tr>\n",
       "      <th>3</th>\n",
       "      <td>バッキンガム宮殿</td>\n",
       "      <td>51.501498</td>\n",
       "      <td>-0.141911</td>\n",
       "    </tr>\n",
       "    <tr>\n",
       "      <th>4</th>\n",
       "      <td>ハイステンボス宮殿</td>\n",
       "      <td>52.093709</td>\n",
       "      <td>4.342826</td>\n",
       "    </tr>\n",
       "    <tr>\n",
       "      <th>5</th>\n",
       "      <td>アルボラーダ宮殿</td>\n",
       "      <td>-15.791564</td>\n",
       "      <td>-47.822473</td>\n",
       "    </tr>\n",
       "    <tr>\n",
       "      <th>6</th>\n",
       "      <td>首相官邸</td>\n",
       "      <td>35.673804</td>\n",
       "      <td>139.742385</td>\n",
       "    </tr>\n",
       "    <tr>\n",
       "      <th>7</th>\n",
       "      <td>バルバドス議事堂</td>\n",
       "      <td>13.097228</td>\n",
       "      <td>-59.613887</td>\n",
       "    </tr>\n",
       "    <tr>\n",
       "      <th>8</th>\n",
       "      <td>国民議会（ガーナ）</td>\n",
       "      <td>5.557140</td>\n",
       "      <td>-0.189966</td>\n",
       "    </tr>\n",
       "  </tbody>\n",
       "</table>\n",
       "</div>"
      ],
      "text/plain": [
       "        name   latitude   longitude\n",
       "0         皇居  35.685269  139.752744\n",
       "1    ほわいとはうす  38.897818  -77.036583\n",
       "2     ぴんくはうす -34.607855  -58.370337\n",
       "3   バッキンガム宮殿  51.501498   -0.141911\n",
       "4  ハイステンボス宮殿  52.093709    4.342826\n",
       "5   アルボラーダ宮殿 -15.791564  -47.822473\n",
       "6       首相官邸  35.673804  139.742385\n",
       "7   バルバドス議事堂  13.097228  -59.613887\n",
       "8  国民議会（ガーナ）   5.557140   -0.189966"
      ]
     },
     "execution_count": 7,
     "metadata": {},
     "output_type": "execute_result"
    }
   ],
   "source": [
    "# show only specific columns\n",
    "df[['name','latitude','longitude']]"
   ]
  },
  {
   "cell_type": "code",
   "execution_count": 8,
   "metadata": {},
   "outputs": [
    {
     "data": {
      "text/plain": [
       "0    139.752744\n",
       "1    -77.036583\n",
       "2    -58.370337\n",
       "3     -0.141911\n",
       "4      4.342826\n",
       "5    -47.822473\n",
       "6    139.742385\n",
       "7    -59.613887\n",
       "8     -0.189966\n",
       "Name: longitude, dtype: float64"
      ]
     },
     "execution_count": 8,
     "metadata": {},
     "output_type": "execute_result"
    }
   ],
   "source": [
    "# get values for a single column\n",
    "df['longitude']"
   ]
  },
  {
   "cell_type": "code",
   "execution_count": 9,
   "metadata": {},
   "outputs": [
    {
     "data": {
      "text/plain": [
       "[35.68526886,\n",
       " 38.89781822,\n",
       " -34.60785541,\n",
       " 51.50149754,\n",
       " 52.0937089,\n",
       " -15.79156376,\n",
       " 35.67380392,\n",
       " 13.09722795,\n",
       " 5.557140472]"
      ]
     },
     "execution_count": 9,
     "metadata": {},
     "output_type": "execute_result"
    }
   ],
   "source": [
    "# put those values in a list\n",
    "df['latitude'].to_list()"
   ]
  },
  {
   "cell_type": "code",
   "execution_count": 10,
   "metadata": {},
   "outputs": [
    {
     "data": {
      "text/plain": [
       "<Axes: >"
      ]
     },
     "execution_count": 10,
     "metadata": {},
     "output_type": "execute_result"
    },
    {
     "data": {
      "image/png": "[encoded data removed]",
      "text/plain": [
       "<Figure size 640x480 with 1 Axes>"
      ]
     },
     "metadata": {},
     "output_type": "display_data"
    }
   ],
   "source": [
    "# line chart\n",
    "df['latitude'].plot()"
   ]
  },
  {
   "cell_type": "code",
   "execution_count": 11,
   "metadata": {},
   "outputs": [
    {
     "data": {
      "text/plain": [
       "<Axes: >"
      ]
     },
     "execution_count": 11,
     "metadata": {},
     "output_type": "execute_result"
    },
    {
     "data": {
      "image/png": "[encoded data removed]",
      "text/plain": [
       "<Figure size 640x480 with 1 Axes>"
      ]
     },
     "metadata": {},
     "output_type": "display_data"
    }
   ],
   "source": [
    "# boxplot 箱ヒゲ図\n",
    "df['latitude'].plot.box(color='red')"
   ]
  },
  {
   "cell_type": "code",
   "execution_count": 12,
   "metadata": {},
   "outputs": [
    {
     "data": {
      "text/plain": [
       "<Axes: >"
      ]
     },
     "execution_count": 12,
     "metadata": {},
     "output_type": "execute_result"
    },
    {
     "data": {
      "image/png": "[encoded data removed]",
      "text/plain": [
       "<Figure size 640x480 with 1 Axes>"
      ]
     },
     "metadata": {},
     "output_type": "display_data"
    }
   ],
   "source": [
    "# bar graph\n",
    "df['latitude'].plot.bar(color='green')"
   ]
  },
  {
   "cell_type": "code",
   "execution_count": 13,
   "metadata": {},
   "outputs": [
    {
     "data": {
      "text/plain": [
       "<Axes: xlabel='longitude', ylabel='latitude'>"
      ]
     },
     "execution_count": 13,
     "metadata": {},
     "output_type": "execute_result"
    },
    {
     "data": {
      "image/png": "[encoded data removed]",
      "text/plain": [
       "<Figure size 640x480 with 1 Axes>"
      ]
     },
     "metadata": {},
     "output_type": "display_data"
    }
   ],
   "source": [
    "# scatterplot 散布図\n",
    "# ここの 'c' は df の変数の 'color' を指定\n",
    "# size(s) を変えてみよう\n",
    "df.plot.scatter(x='longitude',y='latitude',c='color',s=50)"
   ]
  },
  {
   "attachments": {},
   "cell_type": "markdown",
   "metadata": {},
   "source": [
    "### Statistics\n",
    "\n",
    "Pythonは簡単な統計もできます。"
   ]
  },
  {
   "cell_type": "code",
   "execution_count": 14,
   "metadata": {},
   "outputs": [
    {
     "data": {
      "text/plain": [
       "count     9.000000\n",
       "mean     20.234116\n",
       "std      30.393212\n",
       "min     -34.607855\n",
       "25%       5.557140\n",
       "50%      35.673804\n",
       "75%      38.897818\n",
       "max      52.093709\n",
       "Name: latitude, dtype: float64"
      ]
     },
     "execution_count": 14,
     "metadata": {},
     "output_type": "execute_result"
    }
   ],
   "source": [
    "# summary stats\n",
    "df['latitude'].describe()"
   ]
  },
  {
   "cell_type": "code",
   "execution_count": 15,
   "metadata": {},
   "outputs": [
    {
     "data": {
      "text/plain": [
       "count      9.000000\n",
       "mean       4.518088\n",
       "std       82.216557\n",
       "min      -77.036583\n",
       "25%      -58.370337\n",
       "50%       -0.189966\n",
       "75%        4.342826\n",
       "max      139.752744\n",
       "Name: longitude, dtype: float64"
      ]
     },
     "execution_count": 15,
     "metadata": {},
     "output_type": "execute_result"
    }
   ],
   "source": [
    "# summary stats\n",
    "df['longitude'].describe()"
   ]
  },
  {
   "cell_type": "code",
   "execution_count": 16,
   "metadata": {},
   "outputs": [
    {
     "data": {
      "text/plain": [
       "20.234116299111108"
      ]
     },
     "execution_count": 16,
     "metadata": {},
     "output_type": "execute_result"
    }
   ],
   "source": [
    "# mean 平均値\n",
    "df['latitude'].mean()"
   ]
  },
  {
   "cell_type": "code",
   "execution_count": 17,
   "metadata": {},
   "outputs": [
    {
     "data": {
      "text/plain": [
       "35.67380392"
      ]
     },
     "execution_count": 17,
     "metadata": {},
     "output_type": "execute_result"
    }
   ],
   "source": [
    "# median 中央値\n",
    "df['latitude'].median()"
   ]
  },
  {
   "cell_type": "code",
   "execution_count": 18,
   "metadata": {},
   "outputs": [
    {
     "name": "stdout",
     "output_type": "stream",
     "text": [
      "20.234116299111108 4.5180884749444425\n"
     ]
    }
   ],
   "source": [
    "# get center lat/lon\n",
    "center_lat = df['latitude'].mean()\n",
    "center_lon = df['longitude'].mean()\n",
    "\n",
    "print(center_lat,center_lon)"
   ]
  },
  {
   "cell_type": "code",
   "execution_count": 19,
   "metadata": {},
   "outputs": [
    {
     "name": "stdout",
     "output_type": "stream",
     "text": [
      "My name is Fumiaki\n",
      "My name is Yuya\n",
      "My name is Mifuyu\n",
      "My name is Pingxin\n"
     ]
    }
   ],
   "source": [
    "# my students\n",
    "students = ['Fumiaki','Yuya','Mifuyu','Pingxin']\n",
    "\n",
    "# print their names\n",
    "for name in students:\n",
    "    print('My name is', name)"
   ]
  },
  {
   "cell_type": "code",
   "execution_count": 20,
   "metadata": {},
   "outputs": [
    {
     "name": "stdout",
     "output_type": "stream",
     "text": [
      "皇居 35.68526886\n",
      "ほわいとはうす 38.89781822\n",
      "ぴんくはうす -34.60785541\n",
      "バッキンガム宮殿 51.50149754\n",
      "ハイステンボス宮殿 52.0937089\n",
      "アルボラーダ宮殿 -15.79156376\n",
      "首相官邸 35.67380392\n",
      "バルバドス議事堂 13.09722795\n",
      "国民議会（ガーナ） 5.557140472\n"
     ]
    }
   ],
   "source": [
    "# loop through your data\n",
    "for index, row in df.iterrows():\n",
    "    print(row['name'],row['latitude'])"
   ]
  },
  {
   "cell_type": "code",
   "execution_count": 21,
   "metadata": {},
   "outputs": [
    {
     "name": "stdout",
     "output_type": "stream",
     "text": [
      "皇居 35.68526886 139.7527438\n",
      "ほわいとはうす 38.89781822 -77.03658345\n",
      "ぴんくはうす -34.60785541 -58.3703366\n",
      "バッキンガム宮殿 51.50149754 -0.1419114602\n",
      "ハイステンボス宮殿 52.0937089 4.342825569\n",
      "アルボラーダ宮殿 -15.79156376 -47.82247342\n",
      "首相官邸 35.67380392 139.7423849\n",
      "バルバドス議事堂 13.09722795 -59.61388696\n",
      "国民議会（ガーナ） 5.557140472 -0.1899661043\n"
     ]
    }
   ],
   "source": [
    "# loop and output multiple column values\n",
    "for index, row in df.iterrows():\n",
    "    print(row['name'],row['latitude'],row['longitude'])"
   ]
  },
  {
   "cell_type": "code",
   "execution_count": 22,
   "metadata": {},
   "outputs": [
    {
     "data": {
      "text/html": [
       "<div style=\"width:100%;\"><div style=\"position:relative;width:100%;height:0;padding-bottom:60%;\"><span style=\"color:#565656\">Make this Notebook Trusted to load map: File -> Trust Notebook</span><iframe srcdoc=\"&lt;!DOCTYPE html&gt;\n",
       "&lt;html&gt;\n",
       "&lt;head&gt;\n",
       "    \n",
       "    &lt;meta http-equiv=&quot;content-type&quot; content=&quot;text/html; charset=UTF-8&quot; /&gt;\n",
       "    \n",
       "        &lt;script&gt;\n",
       "            L_NO_TOUCH = false;\n",
       "            L_DISABLE_3D = false;\n",
       "        &lt;/script&gt;\n",
       "    \n",
       "    &lt;style&gt;html, body {width: 100%;height: 100%;margin: 0;padding: 0;}&lt;/style&gt;\n",
       "    &lt;style&gt;#map {position:absolute;top:0;bottom:0;right:0;left:0;}&lt;/style&gt;\n",
       "    &lt;script src=&quot;https://cdn.jsdelivr.net/npm/leaflet@1.9.3/dist/leaflet.js&quot;&gt;&lt;/script&gt;\n",
       "    &lt;script src=&quot;https://code.jquery.com/jquery-1.12.4.min.js&quot;&gt;&lt;/script&gt;\n",
       "    &lt;script src=&quot;https://cdn.jsdelivr.net/npm/bootstrap@5.2.2/dist/js/bootstrap.bundle.min.js&quot;&gt;&lt;/script&gt;\n",
       "    &lt;script src=&quot;https://cdnjs.cloudflare.com/ajax/libs/Leaflet.awesome-markers/2.0.2/leaflet.awesome-markers.js&quot;&gt;&lt;/script&gt;\n",
       "    &lt;link rel=&quot;stylesheet&quot; href=&quot;https://cdn.jsdelivr.net/npm/leaflet@1.9.3/dist/leaflet.css&quot;/&gt;\n",
       "    &lt;link rel=&quot;stylesheet&quot; href=&quot;https://cdn.jsdelivr.net/npm/bootstrap@5.2.2/dist/css/bootstrap.min.css&quot;/&gt;\n",
       "    &lt;link rel=&quot;stylesheet&quot; href=&quot;https://netdna.bootstrapcdn.com/bootstrap/3.0.0/css/bootstrap.min.css&quot;/&gt;\n",
       "    &lt;link rel=&quot;stylesheet&quot; href=&quot;https://cdn.jsdelivr.net/npm/@fortawesome/fontawesome-free@6.2.0/css/all.min.css&quot;/&gt;\n",
       "    &lt;link rel=&quot;stylesheet&quot; href=&quot;https://cdnjs.cloudflare.com/ajax/libs/Leaflet.awesome-markers/2.0.2/leaflet.awesome-markers.css&quot;/&gt;\n",
       "    &lt;link rel=&quot;stylesheet&quot; href=&quot;https://cdn.jsdelivr.net/gh/python-visualization/folium/folium/templates/leaflet.awesome.rotate.min.css&quot;/&gt;\n",
       "    \n",
       "            &lt;meta name=&quot;viewport&quot; content=&quot;width=device-width,\n",
       "                initial-scale=1.0, maximum-scale=1.0, user-scalable=no&quot; /&gt;\n",
       "            &lt;style&gt;\n",
       "                #map_74ad4408931f28fb20de22a7f1b79e8d {\n",
       "                    position: relative;\n",
       "                    width: 100.0%;\n",
       "                    height: 100.0%;\n",
       "                    left: 0.0%;\n",
       "                    top: 0.0%;\n",
       "                }\n",
       "                .leaflet-container { font-size: 1rem; }\n",
       "            &lt;/style&gt;\n",
       "        \n",
       "&lt;/head&gt;\n",
       "&lt;body&gt;\n",
       "    \n",
       "    \n",
       "            &lt;div class=&quot;folium-map&quot; id=&quot;map_74ad4408931f28fb20de22a7f1b79e8d&quot; &gt;&lt;/div&gt;\n",
       "        \n",
       "&lt;/body&gt;\n",
       "&lt;script&gt;\n",
       "    \n",
       "    \n",
       "            var map_74ad4408931f28fb20de22a7f1b79e8d = L.map(\n",
       "                &quot;map_74ad4408931f28fb20de22a7f1b79e8d&quot;,\n",
       "                {\n",
       "                    center: [20.234116299111108, 4.5180884749444425],\n",
       "                    crs: L.CRS.EPSG3857,\n",
       "                    zoom: 5,\n",
       "                    zoomControl: true,\n",
       "                    preferCanvas: false,\n",
       "                }\n",
       "            );\n",
       "\n",
       "            \n",
       "\n",
       "        \n",
       "    \n",
       "            var tile_layer_2d15eb7981ab8702961ecb6ec525058c = L.tileLayer(\n",
       "                &quot;https://{s}.tile.openstreetmap.org/{z}/{x}/{y}.png&quot;,\n",
       "                {&quot;attribution&quot;: &quot;Data by \\u0026copy; \\u003ca target=\\&quot;_blank\\&quot; href=\\&quot;http://openstreetmap.org\\&quot;\\u003eOpenStreetMap\\u003c/a\\u003e, under \\u003ca target=\\&quot;_blank\\&quot; href=\\&quot;http://www.openstreetmap.org/copyright\\&quot;\\u003eODbL\\u003c/a\\u003e.&quot;, &quot;detectRetina&quot;: false, &quot;maxNativeZoom&quot;: 18, &quot;maxZoom&quot;: 18, &quot;minZoom&quot;: 0, &quot;noWrap&quot;: false, &quot;opacity&quot;: 1, &quot;subdomains&quot;: &quot;abc&quot;, &quot;tms&quot;: false}\n",
       "            ).addTo(map_74ad4408931f28fb20de22a7f1b79e8d);\n",
       "        \n",
       "    \n",
       "            var marker_6ace35509e4cb266f25ac4deeb98ca67 = L.marker(\n",
       "                [35.68526886, 139.7527438],\n",
       "                {}\n",
       "            ).addTo(map_74ad4408931f28fb20de22a7f1b79e8d);\n",
       "        \n",
       "    \n",
       "            var icon_39f38e95238507967462c05aebabdce4 = L.AwesomeMarkers.icon(\n",
       "                {&quot;extraClasses&quot;: &quot;fa-rotate-0&quot;, &quot;icon&quot;: &quot;info-sign&quot;, &quot;iconColor&quot;: &quot;white&quot;, &quot;markerColor&quot;: &quot;darkblue&quot;, &quot;prefix&quot;: &quot;glyphicon&quot;}\n",
       "            );\n",
       "            marker_6ace35509e4cb266f25ac4deeb98ca67.setIcon(icon_39f38e95238507967462c05aebabdce4);\n",
       "        \n",
       "    \n",
       "        var popup_6b8f7ba6a521f773926e8e92952f3d0c = L.popup({&quot;maxWidth&quot;: &quot;100%&quot;});\n",
       "\n",
       "        \n",
       "            \n",
       "                var html_95ee5ec3f17ebf128cabc50885e397bd = $(`&lt;div id=&quot;html_95ee5ec3f17ebf128cabc50885e397bd&quot; style=&quot;width: 100.0%; height: 100.0%;&quot;&gt;&lt;div style=&quot;width:250px&quot;&gt;日本の東京都千代田区にある皇室方々が住む場所&lt;/div&gt;&lt;/div&gt;`)[0];\n",
       "                popup_6b8f7ba6a521f773926e8e92952f3d0c.setContent(html_95ee5ec3f17ebf128cabc50885e397bd);\n",
       "            \n",
       "        \n",
       "\n",
       "        marker_6ace35509e4cb266f25ac4deeb98ca67.bindPopup(popup_6b8f7ba6a521f773926e8e92952f3d0c)\n",
       "        ;\n",
       "\n",
       "        \n",
       "    \n",
       "    \n",
       "            marker_6ace35509e4cb266f25ac4deeb98ca67.bindTooltip(\n",
       "                `&lt;div&gt;\n",
       "                     皇居\n",
       "                 &lt;/div&gt;`,\n",
       "                {&quot;sticky&quot;: true}\n",
       "            );\n",
       "        \n",
       "    \n",
       "            var marker_b8c9cf60f8832efc880d32a500f7ae8a = L.marker(\n",
       "                [38.89781822, -77.03658345],\n",
       "                {}\n",
       "            ).addTo(map_74ad4408931f28fb20de22a7f1b79e8d);\n",
       "        \n",
       "    \n",
       "            var icon_cce96908a0d24fa46a20406c261d523b = L.AwesomeMarkers.icon(\n",
       "                {&quot;extraClasses&quot;: &quot;fa-rotate-0&quot;, &quot;icon&quot;: &quot;info-sign&quot;, &quot;iconColor&quot;: &quot;white&quot;, &quot;markerColor&quot;: &quot;white&quot;, &quot;prefix&quot;: &quot;glyphicon&quot;}\n",
       "            );\n",
       "            marker_b8c9cf60f8832efc880d32a500f7ae8a.setIcon(icon_cce96908a0d24fa46a20406c261d523b);\n",
       "        \n",
       "    \n",
       "        var popup_a21600e18b454ddf6aa3df408954b822 = L.popup({&quot;maxWidth&quot;: &quot;100%&quot;});\n",
       "\n",
       "        \n",
       "            \n",
       "                var html_1af5e94e85f6b1256480359ee01c754e = $(`&lt;div id=&quot;html_1af5e94e85f6b1256480359ee01c754e&quot; style=&quot;width: 100.0%; height: 100.0%;&quot;&gt;&lt;div style=&quot;width:250px&quot;&gt;アメリカ合衆国大統領が居住し、執務を行う官邸・公邸、訳語は「白亜館」&lt;/div&gt;&lt;/div&gt;`)[0];\n",
       "                popup_a21600e18b454ddf6aa3df408954b822.setContent(html_1af5e94e85f6b1256480359ee01c754e);\n",
       "            \n",
       "        \n",
       "\n",
       "        marker_b8c9cf60f8832efc880d32a500f7ae8a.bindPopup(popup_a21600e18b454ddf6aa3df408954b822)\n",
       "        ;\n",
       "\n",
       "        \n",
       "    \n",
       "    \n",
       "            marker_b8c9cf60f8832efc880d32a500f7ae8a.bindTooltip(\n",
       "                `&lt;div&gt;\n",
       "                     ほわいとはうす\n",
       "                 &lt;/div&gt;`,\n",
       "                {&quot;sticky&quot;: true}\n",
       "            );\n",
       "        \n",
       "    \n",
       "            var marker_22db655c27772e17e289d41a0f233986 = L.marker(\n",
       "                [-34.60785541, -58.3703366],\n",
       "                {}\n",
       "            ).addTo(map_74ad4408931f28fb20de22a7f1b79e8d);\n",
       "        \n",
       "    \n",
       "            var icon_3d5bd9afa8c5af9ce6a539876bc2af39 = L.AwesomeMarkers.icon(\n",
       "                {&quot;extraClasses&quot;: &quot;fa-rotate-0&quot;, &quot;icon&quot;: &quot;info-sign&quot;, &quot;iconColor&quot;: &quot;white&quot;, &quot;markerColor&quot;: &quot;pink&quot;, &quot;prefix&quot;: &quot;glyphicon&quot;}\n",
       "            );\n",
       "            marker_22db655c27772e17e289d41a0f233986.setIcon(icon_3d5bd9afa8c5af9ce6a539876bc2af39);\n",
       "        \n",
       "    \n",
       "        var popup_49942fe5e835212c856c45a5a987cecb = L.popup({&quot;maxWidth&quot;: &quot;100%&quot;});\n",
       "\n",
       "        \n",
       "            \n",
       "                var html_8336e2793d9e91007f9f28b47afe4c5d = $(`&lt;div id=&quot;html_8336e2793d9e91007f9f28b47afe4c5d&quot; style=&quot;width: 100.0%; height: 100.0%;&quot;&gt;&lt;div style=&quot;width:250px&quot;&gt;アルゼンチンの大統領官邸で正式名称はLa Casa Rosada&lt;/div&gt;&lt;/div&gt;`)[0];\n",
       "                popup_49942fe5e835212c856c45a5a987cecb.setContent(html_8336e2793d9e91007f9f28b47afe4c5d);\n",
       "            \n",
       "        \n",
       "\n",
       "        marker_22db655c27772e17e289d41a0f233986.bindPopup(popup_49942fe5e835212c856c45a5a987cecb)\n",
       "        ;\n",
       "\n",
       "        \n",
       "    \n",
       "    \n",
       "            marker_22db655c27772e17e289d41a0f233986.bindTooltip(\n",
       "                `&lt;div&gt;\n",
       "                     ぴんくはうす\n",
       "                 &lt;/div&gt;`,\n",
       "                {&quot;sticky&quot;: true}\n",
       "            );\n",
       "        \n",
       "    \n",
       "            var marker_f4b33b1bd10bfe8bb518ec05ad7b31cd = L.marker(\n",
       "                [51.50149754, -0.1419114602],\n",
       "                {}\n",
       "            ).addTo(map_74ad4408931f28fb20de22a7f1b79e8d);\n",
       "        \n",
       "    \n",
       "            var icon_d78ec7a3842b85d450f28c530a8fa8dc = L.AwesomeMarkers.icon(\n",
       "                {&quot;extraClasses&quot;: &quot;fa-rotate-0&quot;, &quot;icon&quot;: &quot;info-sign&quot;, &quot;iconColor&quot;: &quot;white&quot;, &quot;markerColor&quot;: &quot;cadetblue&quot;, &quot;prefix&quot;: &quot;glyphicon&quot;}\n",
       "            );\n",
       "            marker_f4b33b1bd10bfe8bb518ec05ad7b31cd.setIcon(icon_d78ec7a3842b85d450f28c530a8fa8dc);\n",
       "        \n",
       "    \n",
       "        var popup_ea4be5f5700a5153abc015162f25a172 = L.popup({&quot;maxWidth&quot;: &quot;100%&quot;});\n",
       "\n",
       "        \n",
       "            \n",
       "                var html_b6c34cb083cc97a225051640d437a799 = $(`&lt;div id=&quot;html_b6c34cb083cc97a225051640d437a799&quot; style=&quot;width: 100.0%; height: 100.0%;&quot;&gt;&lt;div style=&quot;width:250px&quot;&gt;イギリスロンドンにある宮殿で1837年以来は英国王族が住んでいた&lt;/div&gt;&lt;/div&gt;`)[0];\n",
       "                popup_ea4be5f5700a5153abc015162f25a172.setContent(html_b6c34cb083cc97a225051640d437a799);\n",
       "            \n",
       "        \n",
       "\n",
       "        marker_f4b33b1bd10bfe8bb518ec05ad7b31cd.bindPopup(popup_ea4be5f5700a5153abc015162f25a172)\n",
       "        ;\n",
       "\n",
       "        \n",
       "    \n",
       "    \n",
       "            marker_f4b33b1bd10bfe8bb518ec05ad7b31cd.bindTooltip(\n",
       "                `&lt;div&gt;\n",
       "                     バッキンガム宮殿\n",
       "                 &lt;/div&gt;`,\n",
       "                {&quot;sticky&quot;: true}\n",
       "            );\n",
       "        \n",
       "    \n",
       "            var marker_35b9d74a0cf7fa3076a25ae0d6d6060b = L.marker(\n",
       "                [52.0937089, 4.342825569],\n",
       "                {}\n",
       "            ).addTo(map_74ad4408931f28fb20de22a7f1b79e8d);\n",
       "        \n",
       "    \n",
       "            var icon_54824da6f2e6a55fa30618b3ef2fb605 = L.AwesomeMarkers.icon(\n",
       "                {&quot;extraClasses&quot;: &quot;fa-rotate-0&quot;, &quot;icon&quot;: &quot;info-sign&quot;, &quot;iconColor&quot;: &quot;white&quot;, &quot;markerColor&quot;: &quot;orange&quot;, &quot;prefix&quot;: &quot;glyphicon&quot;}\n",
       "            );\n",
       "            marker_35b9d74a0cf7fa3076a25ae0d6d6060b.setIcon(icon_54824da6f2e6a55fa30618b3ef2fb605);\n",
       "        \n",
       "    \n",
       "        var popup_71bb233877187e3f7acbffc931bb7962 = L.popup({&quot;maxWidth&quot;: &quot;100%&quot;});\n",
       "\n",
       "        \n",
       "            \n",
       "                var html_9ebbf44e9abfc06f2c3ac7903067ebee = $(`&lt;div id=&quot;html_9ebbf44e9abfc06f2c3ac7903067ebee&quot; style=&quot;width: 100.0%; height: 100.0%;&quot;&gt;&lt;div style=&quot;width:250px&quot;&gt;17世紀にオランダ・ハーグの森に建てられ現在はウィレム＝アレクサンダー国王がお住まいになっている宮殿&lt;/div&gt;&lt;/div&gt;`)[0];\n",
       "                popup_71bb233877187e3f7acbffc931bb7962.setContent(html_9ebbf44e9abfc06f2c3ac7903067ebee);\n",
       "            \n",
       "        \n",
       "\n",
       "        marker_35b9d74a0cf7fa3076a25ae0d6d6060b.bindPopup(popup_71bb233877187e3f7acbffc931bb7962)\n",
       "        ;\n",
       "\n",
       "        \n",
       "    \n",
       "    \n",
       "            marker_35b9d74a0cf7fa3076a25ae0d6d6060b.bindTooltip(\n",
       "                `&lt;div&gt;\n",
       "                     ハイステンボス宮殿\n",
       "                 &lt;/div&gt;`,\n",
       "                {&quot;sticky&quot;: true}\n",
       "            );\n",
       "        \n",
       "    \n",
       "            var marker_52ffe326e9a5fc60f091edc42eb092ec = L.marker(\n",
       "                [-15.79156376, -47.82247342],\n",
       "                {}\n",
       "            ).addTo(map_74ad4408931f28fb20de22a7f1b79e8d);\n",
       "        \n",
       "    \n",
       "            var icon_2b22d1f4abe67fc283d0930ef1bf8e8a = L.AwesomeMarkers.icon(\n",
       "                {&quot;extraClasses&quot;: &quot;fa-rotate-0&quot;, &quot;icon&quot;: &quot;info-sign&quot;, &quot;iconColor&quot;: &quot;white&quot;, &quot;markerColor&quot;: &quot;orange&quot;, &quot;prefix&quot;: &quot;glyphicon&quot;}\n",
       "            );\n",
       "            marker_52ffe326e9a5fc60f091edc42eb092ec.setIcon(icon_2b22d1f4abe67fc283d0930ef1bf8e8a);\n",
       "        \n",
       "    \n",
       "        var popup_d9a0ab63ea6ddd411ebffee1a4addad9 = L.popup({&quot;maxWidth&quot;: &quot;100%&quot;});\n",
       "\n",
       "        \n",
       "            \n",
       "                var html_f2714fa59ef17a1ad20f96e75c0aba9f = $(`&lt;div id=&quot;html_f2714fa59ef17a1ad20f96e75c0aba9f&quot; style=&quot;width: 100.0%; height: 100.0%;&quot;&gt;&lt;div style=&quot;width:250px&quot;&gt;ブラジルの首都ブラジリアにある大統領官邸の通称。ポルトガル語で「夜明けの宮殿」を意味する。&lt;/div&gt;&lt;/div&gt;`)[0];\n",
       "                popup_d9a0ab63ea6ddd411ebffee1a4addad9.setContent(html_f2714fa59ef17a1ad20f96e75c0aba9f);\n",
       "            \n",
       "        \n",
       "\n",
       "        marker_52ffe326e9a5fc60f091edc42eb092ec.bindPopup(popup_d9a0ab63ea6ddd411ebffee1a4addad9)\n",
       "        ;\n",
       "\n",
       "        \n",
       "    \n",
       "    \n",
       "            marker_52ffe326e9a5fc60f091edc42eb092ec.bindTooltip(\n",
       "                `&lt;div&gt;\n",
       "                     アルボラーダ宮殿\n",
       "                 &lt;/div&gt;`,\n",
       "                {&quot;sticky&quot;: true}\n",
       "            );\n",
       "        \n",
       "    \n",
       "            var marker_96ced157c9ac25b1c307c9446cc2fa5b = L.marker(\n",
       "                [35.67380392, 139.7423849],\n",
       "                {}\n",
       "            ).addTo(map_74ad4408931f28fb20de22a7f1b79e8d);\n",
       "        \n",
       "    \n",
       "            var icon_29755bf9775fbcc0a19ae2c4c1a54d81 = L.AwesomeMarkers.icon(\n",
       "                {&quot;extraClasses&quot;: &quot;fa-rotate-0&quot;, &quot;icon&quot;: &quot;info-sign&quot;, &quot;iconColor&quot;: &quot;white&quot;, &quot;markerColor&quot;: &quot;orange&quot;, &quot;prefix&quot;: &quot;glyphicon&quot;}\n",
       "            );\n",
       "            marker_96ced157c9ac25b1c307c9446cc2fa5b.setIcon(icon_29755bf9775fbcc0a19ae2c4c1a54d81);\n",
       "        \n",
       "    \n",
       "        var popup_614fbee1cf162093253852d6e6435646 = L.popup({&quot;maxWidth&quot;: &quot;100%&quot;});\n",
       "\n",
       "        \n",
       "            \n",
       "                var html_680c84b87e7b7da9d3cd541c6aefd3f7 = $(`&lt;div id=&quot;html_680c84b87e7b7da9d3cd541c6aefd3f7&quot; style=&quot;width: 100.0%; height: 100.0%;&quot;&gt;&lt;div style=&quot;width:250px&quot;&gt;日本の内閣の公式な事務所、居所&lt;/div&gt;&lt;/div&gt;`)[0];\n",
       "                popup_614fbee1cf162093253852d6e6435646.setContent(html_680c84b87e7b7da9d3cd541c6aefd3f7);\n",
       "            \n",
       "        \n",
       "\n",
       "        marker_96ced157c9ac25b1c307c9446cc2fa5b.bindPopup(popup_614fbee1cf162093253852d6e6435646)\n",
       "        ;\n",
       "\n",
       "        \n",
       "    \n",
       "    \n",
       "            marker_96ced157c9ac25b1c307c9446cc2fa5b.bindTooltip(\n",
       "                `&lt;div&gt;\n",
       "                     首相官邸\n",
       "                 &lt;/div&gt;`,\n",
       "                {&quot;sticky&quot;: true}\n",
       "            );\n",
       "        \n",
       "    \n",
       "            var marker_7bb400c1c09da9bdd7427843cddf1c1f = L.marker(\n",
       "                [13.09722795, -59.61388696],\n",
       "                {}\n",
       "            ).addTo(map_74ad4408931f28fb20de22a7f1b79e8d);\n",
       "        \n",
       "    \n",
       "            var icon_d1dba9c19bbf71d0ae42517e7d36b060 = L.AwesomeMarkers.icon(\n",
       "                {&quot;extraClasses&quot;: &quot;fa-rotate-0&quot;, &quot;icon&quot;: &quot;info-sign&quot;, &quot;iconColor&quot;: &quot;white&quot;, &quot;markerColor&quot;: &quot;orange&quot;, &quot;prefix&quot;: &quot;glyphicon&quot;}\n",
       "            );\n",
       "            marker_7bb400c1c09da9bdd7427843cddf1c1f.setIcon(icon_d1dba9c19bbf71d0ae42517e7d36b060);\n",
       "        \n",
       "    \n",
       "        var popup_4cee06e0efbf01b64b57ece40a6b17e8 = L.popup({&quot;maxWidth&quot;: &quot;100%&quot;});\n",
       "\n",
       "        \n",
       "            \n",
       "                var html_8a42b03c70742f5a530cc0e98cf1f1a8 = $(`&lt;div id=&quot;html_8a42b03c70742f5a530cc0e98cf1f1a8&quot; style=&quot;width: 100.0%; height: 100.0%;&quot;&gt;&lt;div style=&quot;width:250px&quot;&gt;ブリッジタウン旧市街中心地に建つ議事堂&lt;/div&gt;&lt;/div&gt;`)[0];\n",
       "                popup_4cee06e0efbf01b64b57ece40a6b17e8.setContent(html_8a42b03c70742f5a530cc0e98cf1f1a8);\n",
       "            \n",
       "        \n",
       "\n",
       "        marker_7bb400c1c09da9bdd7427843cddf1c1f.bindPopup(popup_4cee06e0efbf01b64b57ece40a6b17e8)\n",
       "        ;\n",
       "\n",
       "        \n",
       "    \n",
       "    \n",
       "            marker_7bb400c1c09da9bdd7427843cddf1c1f.bindTooltip(\n",
       "                `&lt;div&gt;\n",
       "                     バルバドス議事堂\n",
       "                 &lt;/div&gt;`,\n",
       "                {&quot;sticky&quot;: true}\n",
       "            );\n",
       "        \n",
       "    \n",
       "            var marker_918f9cf7cb76eb9870bdc6ce8c5e187c = L.marker(\n",
       "                [5.557140472, -0.1899661043],\n",
       "                {}\n",
       "            ).addTo(map_74ad4408931f28fb20de22a7f1b79e8d);\n",
       "        \n",
       "    \n",
       "            var icon_106dc55684ece990980123d12f6e2969 = L.AwesomeMarkers.icon(\n",
       "                {&quot;extraClasses&quot;: &quot;fa-rotate-0&quot;, &quot;icon&quot;: &quot;info-sign&quot;, &quot;iconColor&quot;: &quot;white&quot;, &quot;markerColor&quot;: &quot;orange&quot;, &quot;prefix&quot;: &quot;glyphicon&quot;}\n",
       "            );\n",
       "            marker_918f9cf7cb76eb9870bdc6ce8c5e187c.setIcon(icon_106dc55684ece990980123d12f6e2969);\n",
       "        \n",
       "    \n",
       "        var popup_77b1092fc88c7f4a4585b615f1f87b62 = L.popup({&quot;maxWidth&quot;: &quot;100%&quot;});\n",
       "\n",
       "        \n",
       "            \n",
       "                var html_448609f59b0318a5a43ca20b5de01702 = $(`&lt;div id=&quot;html_448609f59b0318a5a43ca20b5de01702&quot; style=&quot;width: 100.0%; height: 100.0%;&quot;&gt;&lt;div style=&quot;width:250px&quot;&gt;ガーナの国民議会館&lt;/div&gt;&lt;/div&gt;`)[0];\n",
       "                popup_77b1092fc88c7f4a4585b615f1f87b62.setContent(html_448609f59b0318a5a43ca20b5de01702);\n",
       "            \n",
       "        \n",
       "\n",
       "        marker_918f9cf7cb76eb9870bdc6ce8c5e187c.bindPopup(popup_77b1092fc88c7f4a4585b615f1f87b62)\n",
       "        ;\n",
       "\n",
       "        \n",
       "    \n",
       "    \n",
       "            marker_918f9cf7cb76eb9870bdc6ce8c5e187c.bindTooltip(\n",
       "                `&lt;div&gt;\n",
       "                     国民議会（ガーナ）\n",
       "                 &lt;/div&gt;`,\n",
       "                {&quot;sticky&quot;: true}\n",
       "            );\n",
       "        \n",
       "&lt;/script&gt;\n",
       "&lt;/html&gt;\" style=\"position:absolute;width:100%;height:100%;left:0;top:0;border:none !important;\" allowfullscreen webkitallowfullscreen mozallowfullscreen></iframe></div></div>"
      ],
      "text/plain": [
       "<folium.folium.Map at 0x167b5fb7d90>"
      ]
     },
     "execution_count": 22,
     "metadata": {},
     "output_type": "execute_result"
    }
   ],
   "source": [
    "# make the map\n",
    "m = folium.Map(location=[center_lat,center_lon], zoom_start=5)\n",
    "\n",
    "# df をループしてマーカーを作る\n",
    "for index, row in df.iterrows():\n",
    "    latlon = [row['latitude'],row['longitude']]\n",
    "    folium.Marker(latlon, \n",
    "                  popup='<div style=\"width:250px\">'+row['description']+'</div>', \n",
    "                  tooltip=row['name'],\n",
    "                  icon=folium.Icon(color=row['color']\n",
    "                )).add_to(m)\n",
    "\n",
    "# show the map\n",
    "m"
   ]
  },
  {
   "cell_type": "code",
   "execution_count": null,
   "metadata": {},
   "outputs": [],
   "source": []
  }
 ],
 "metadata": {
  "kernelspec": {
   "display_name": "geos",
   "language": "python",
   "name": "python3"
  },
  "language_info": {
   "codemirror_mode": {
    "name": "ipython",
    "version": 3
   },
   "file_extension": ".py",
   "mimetype": "text/x-python",
   "name": "python",
   "nbconvert_exporter": "python",
   "pygments_lexer": "ipython3",
   "version": "3.11.5"
  },
  "orig_nbformat": 4
 },
 "nbformat": 4,
 "nbformat_minor": 2
}
